{
 "cells": [
  {
   "cell_type": "code",
   "execution_count": 34,
   "metadata": {},
   "outputs": [],
   "source": [
    "import pandas as pd"
   ]
  },
  {
   "cell_type": "code",
   "execution_count": 35,
   "metadata": {},
   "outputs": [],
   "source": [
    "df=pd.read_csv(r'/...path to csv/cars.csv')"
   ]
  },
  {
   "cell_type": "code",
   "execution_count": 36,
   "metadata": {},
   "outputs": [
    {
     "data": {
      "text/html": [
       "<div>\n",
       "<style scoped>\n",
       "    .dataframe tbody tr th:only-of-type {\n",
       "        vertical-align: middle;\n",
       "    }\n",
       "\n",
       "    .dataframe tbody tr th {\n",
       "        vertical-align: top;\n",
       "    }\n",
       "\n",
       "    .dataframe thead th {\n",
       "        text-align: right;\n",
       "    }\n",
       "</style>\n",
       "<table border=\"1\" class=\"dataframe\">\n",
       "  <thead>\n",
       "    <tr style=\"text-align: right;\">\n",
       "      <th></th>\n",
       "      <th>name</th>\n",
       "      <th>year</th>\n",
       "      <th>selling_price</th>\n",
       "      <th>km_driven</th>\n",
       "      <th>fuel</th>\n",
       "      <th>seller_type</th>\n",
       "      <th>transmission</th>\n",
       "      <th>owner</th>\n",
       "    </tr>\n",
       "  </thead>\n",
       "  <tbody>\n",
       "    <tr>\n",
       "      <th>0</th>\n",
       "      <td>Maruti 800 AC</td>\n",
       "      <td>2007</td>\n",
       "      <td>60000</td>\n",
       "      <td>70000</td>\n",
       "      <td>Petrol</td>\n",
       "      <td>Individual</td>\n",
       "      <td>Manual</td>\n",
       "      <td>First Owner</td>\n",
       "    </tr>\n",
       "    <tr>\n",
       "      <th>1</th>\n",
       "      <td>Maruti Wagon R LXI Minor</td>\n",
       "      <td>2007</td>\n",
       "      <td>135000</td>\n",
       "      <td>50000</td>\n",
       "      <td>Petrol</td>\n",
       "      <td>Individual</td>\n",
       "      <td>Manual</td>\n",
       "      <td>First Owner</td>\n",
       "    </tr>\n",
       "    <tr>\n",
       "      <th>2</th>\n",
       "      <td>Hyundai Verna 1.6 SX</td>\n",
       "      <td>2012</td>\n",
       "      <td>600000</td>\n",
       "      <td>100000</td>\n",
       "      <td>Diesel</td>\n",
       "      <td>Individual</td>\n",
       "      <td>Manual</td>\n",
       "      <td>First Owner</td>\n",
       "    </tr>\n",
       "    <tr>\n",
       "      <th>3</th>\n",
       "      <td>Datsun RediGO T Option</td>\n",
       "      <td>2017</td>\n",
       "      <td>250000</td>\n",
       "      <td>46000</td>\n",
       "      <td>Petrol</td>\n",
       "      <td>Individual</td>\n",
       "      <td>Manual</td>\n",
       "      <td>First Owner</td>\n",
       "    </tr>\n",
       "    <tr>\n",
       "      <th>4</th>\n",
       "      <td>Honda Amaze VX i-DTEC</td>\n",
       "      <td>2014</td>\n",
       "      <td>450000</td>\n",
       "      <td>141000</td>\n",
       "      <td>Diesel</td>\n",
       "      <td>Individual</td>\n",
       "      <td>Manual</td>\n",
       "      <td>Second Owner</td>\n",
       "    </tr>\n",
       "  </tbody>\n",
       "</table>\n",
       "</div>"
      ],
      "text/plain": [
       "                       name  year  selling_price  km_driven    fuel  \\\n",
       "0             Maruti 800 AC  2007          60000      70000  Petrol   \n",
       "1  Maruti Wagon R LXI Minor  2007         135000      50000  Petrol   \n",
       "2      Hyundai Verna 1.6 SX  2012         600000     100000  Diesel   \n",
       "3    Datsun RediGO T Option  2017         250000      46000  Petrol   \n",
       "4     Honda Amaze VX i-DTEC  2014         450000     141000  Diesel   \n",
       "\n",
       "  seller_type transmission         owner  \n",
       "0  Individual       Manual   First Owner  \n",
       "1  Individual       Manual   First Owner  \n",
       "2  Individual       Manual   First Owner  \n",
       "3  Individual       Manual   First Owner  \n",
       "4  Individual       Manual  Second Owner  "
      ]
     },
     "execution_count": 36,
     "metadata": {},
     "output_type": "execute_result"
    }
   ],
   "source": [
    "df.head()"
   ]
  },
  {
   "cell_type": "code",
   "execution_count": 37,
   "metadata": {},
   "outputs": [],
   "source": [
    "df.dropna(axis=0,inplace=True)\n",
    "p_values=[]"
   ]
  },
  {
   "cell_type": "code",
   "execution_count": 38,
   "metadata": {},
   "outputs": [
    {
     "name": "stdout",
     "output_type": "stream",
     "text": [
      "CNG (-0.03783908384266269, 0.012668189009190199)\n",
      "Diesel (0.2829467004105503, 1.0616408786053858e-80)\n",
      "Electric (-0.0050945039812463865, 0.7372293315326337)\n",
      "LPG (-0.04243375741960239, 0.005174999817728764)\n",
      "Petrol (-0.26945301590251997, 4.45486550346218e-73)\n"
     ]
    }
   ],
   "source": [
    "from scipy.stats import pearsonr\n",
    "df1=pd.get_dummies(df['fuel'])\n",
    "for column in df1:\n",
    "    p_values.append((column,pearsonr(df1[column],df['selling_price'])[1]))\n",
    "    print(column,pearsonr(df1[column],df['selling_price']))"
   ]
  },
  {
   "cell_type": "code",
   "execution_count": 39,
   "metadata": {},
   "outputs": [
    {
     "name": "stdout",
     "output_type": "stream",
     "text": [
      "kms (-0.1922886305451144, 2.0262823832143534e-37)\n",
      "year (0.4139216798108547, 2.7181942080309432e-179)\n"
     ]
    }
   ],
   "source": [
    "print(\"kms\",pearsonr(df['km_driven'],df['selling_price']))\n",
    "p_values.append((\"kms\",pearsonr(df['km_driven'],df['selling_price'])[1]))\n",
    "print(\"year\",pearsonr(df['year'],df['selling_price']))\n",
    "p_values.append((\"year\",pearsonr(df['year'],df['selling_price'])[1]))"
   ]
  },
  {
   "cell_type": "code",
   "execution_count": 40,
   "metadata": {},
   "outputs": [
    {
     "name": "stdout",
     "output_type": "stream",
     "text": [
      "Dealer (0.20511145858252045, 1.911125654880059e-42)\n",
      "Individual (-0.23679783763180565, 2.230576994499171e-56)\n",
      "Trustmark Dealer (0.11017553211440344, 3.3806860018158966e-13)\n"
     ]
    }
   ],
   "source": [
    "df2=pd.get_dummies(df['seller_type'])\n",
    "for column in df2:\n",
    "    p_values.append((column,pearsonr(df2[column],df['selling_price'])[1]))\n",
    "    print(column,pearsonr(df2[column],df['selling_price']))"
   ]
  },
  {
   "cell_type": "code",
   "execution_count": 41,
   "metadata": {},
   "outputs": [
    {
     "name": "stdout",
     "output_type": "stream",
     "text": [
      "Automatic (0.5302051397294348, 2.8157483053e-313)\n",
      "Manual (-0.5302051397294348, 2.8157483053e-313)\n"
     ]
    }
   ],
   "source": [
    "df3=pd.get_dummies(df['transmission'])\n",
    "for column in df3:\n",
    "     p_values.append((column,pearsonr(df3[column],df['selling_price'])[1]))\n",
    "     print(column,pearsonr(df3[column],df['selling_price']))"
   ]
  },
  {
   "cell_type": "code",
   "execution_count": 44,
   "metadata": {},
   "outputs": [
    {
     "name": "stdout",
     "output_type": "stream",
     "text": [
      "First Owner (0.2238887312720283, 1.9442587505102127e-50)\n",
      "Fourth & Above Owner (-0.07872455132064078, 2.071148767664006e-07)\n",
      "Second Owner (-0.1619863225390974, 6.649812807534634e-27)\n",
      "Test Drive Car (0.04879948416302313, 0.0013006546628275717)\n",
      "Third Owner (-0.111326353865149, 1.912252320956546e-13)\n"
     ]
    }
   ],
   "source": [
    "df4=pd.get_dummies(df['owner'])\n",
    "for column in df4:\n",
    "    p_values.append((column,pearsonr(df4[column],df['selling_price'])[1]))\n",
    "    print(column,pearsonr(df4[column],df['selling_price']))"
   ]
  },
  {
   "cell_type": "code",
   "execution_count": 45,
   "metadata": {},
   "outputs": [
    {
     "data": {
      "text/plain": [
       "[('CNG', 0.012668189009190199),\n",
       " ('Diesel', 1.0616408786053858e-80),\n",
       " ('Electric', 0.7372293315326337),\n",
       " ('LPG', 0.005174999817728764),\n",
       " ('Petrol', 4.45486550346218e-73),\n",
       " ('kms', 2.0262823832143534e-37),\n",
       " ('year', 2.7181942080309432e-179),\n",
       " ('Dealer', 1.911125654880059e-42),\n",
       " ('Individual', 2.230576994499171e-56),\n",
       " ('Trustmark Dealer', 3.3806860018158966e-13),\n",
       " ('Automatic', 2.8157483053e-313),\n",
       " ('Manual', 2.8157483053e-313),\n",
       " ('First Owner', 1.9442587505102127e-50),\n",
       " ('Fourth & Above Owner', 2.071148767664006e-07),\n",
       " ('Second Owner', 6.649812807534634e-27),\n",
       " ('Test Drive Car', 0.0013006546628275717),\n",
       " ('Third Owner', 1.912252320956546e-13)]"
      ]
     },
     "execution_count": 45,
     "metadata": {},
     "output_type": "execute_result"
    }
   ],
   "source": [
    " p_values"
   ]
  },
  {
   "cell_type": "code",
   "execution_count": 46,
   "metadata": {},
   "outputs": [],
   "source": [
    "p_values.sort(key=lambda tup: tup[1])"
   ]
  },
  {
   "cell_type": "code",
   "execution_count": 47,
   "metadata": {},
   "outputs": [
    {
     "data": {
      "text/plain": [
       "[('Automatic', 2.8157483053e-313),\n",
       " ('Manual', 2.8157483053e-313),\n",
       " ('year', 2.7181942080309432e-179),\n",
       " ('Diesel', 1.0616408786053858e-80),\n",
       " ('Petrol', 4.45486550346218e-73),\n",
       " ('Individual', 2.230576994499171e-56),\n",
       " ('First Owner', 1.9442587505102127e-50),\n",
       " ('Dealer', 1.911125654880059e-42),\n",
       " ('kms', 2.0262823832143534e-37),\n",
       " ('Second Owner', 6.649812807534634e-27),\n",
       " ('Third Owner', 1.912252320956546e-13),\n",
       " ('Trustmark Dealer', 3.3806860018158966e-13),\n",
       " ('Fourth & Above Owner', 2.071148767664006e-07),\n",
       " ('Test Drive Car', 0.0013006546628275717),\n",
       " ('LPG', 0.005174999817728764),\n",
       " ('CNG', 0.012668189009190199),\n",
       " ('Electric', 0.7372293315326337)]"
      ]
     },
     "execution_count": 47,
     "metadata": {},
     "output_type": "execute_result"
    }
   ],
   "source": [
    "p_values"
   ]
  },
  {
   "cell_type": "markdown",
   "metadata": {},
   "source": [
    "For regresssion the fields that we can consider are Automatic, Manual,year, Diesel, Petrol, Individual, First Owner,Dealer,Kilometres"
   ]
  },
  {
   "cell_type": "code",
   "execution_count": 48,
   "metadata": {},
   "outputs": [],
   "source": [
    "df=df.drop(columns=['name'])"
   ]
  },
  {
   "cell_type": "code",
   "execution_count": 49,
   "metadata": {},
   "outputs": [],
   "source": [
    "df_final=pd.DataFrame()"
   ]
  },
  {
   "cell_type": "code",
   "execution_count": 50,
   "metadata": {},
   "outputs": [],
   "source": [
    "df_final['year']=df['year']\n",
    "df_final['automatic']=df3['Automatic']\n",
    "df_final['manual']=df3['Manual']\n",
    "df_final['diesel']=df1['Diesel']\n",
    "df_final['petrol']=df1['Petrol']\n",
    "df_final['individual']=df2['Individual']\n",
    "df_final['dealer']=df2['Dealer']\n",
    "df_final['first_owner']=df4['First Owner']\n",
    "df_final['kilometers']=df['km_driven']\n",
    "\n"
   ]
  },
  {
   "cell_type": "code",
   "execution_count": 51,
   "metadata": {},
   "outputs": [
    {
     "data": {
      "text/html": [
       "<div>\n",
       "<style scoped>\n",
       "    .dataframe tbody tr th:only-of-type {\n",
       "        vertical-align: middle;\n",
       "    }\n",
       "\n",
       "    .dataframe tbody tr th {\n",
       "        vertical-align: top;\n",
       "    }\n",
       "\n",
       "    .dataframe thead th {\n",
       "        text-align: right;\n",
       "    }\n",
       "</style>\n",
       "<table border=\"1\" class=\"dataframe\">\n",
       "  <thead>\n",
       "    <tr style=\"text-align: right;\">\n",
       "      <th></th>\n",
       "      <th>year</th>\n",
       "      <th>automatic</th>\n",
       "      <th>manual</th>\n",
       "      <th>diesel</th>\n",
       "      <th>petrol</th>\n",
       "      <th>individual</th>\n",
       "      <th>dealer</th>\n",
       "      <th>first_owner</th>\n",
       "      <th>kilometers</th>\n",
       "    </tr>\n",
       "  </thead>\n",
       "  <tbody>\n",
       "    <tr>\n",
       "      <th>0</th>\n",
       "      <td>2007</td>\n",
       "      <td>0</td>\n",
       "      <td>1</td>\n",
       "      <td>0</td>\n",
       "      <td>1</td>\n",
       "      <td>1</td>\n",
       "      <td>0</td>\n",
       "      <td>1</td>\n",
       "      <td>70000</td>\n",
       "    </tr>\n",
       "    <tr>\n",
       "      <th>1</th>\n",
       "      <td>2007</td>\n",
       "      <td>0</td>\n",
       "      <td>1</td>\n",
       "      <td>0</td>\n",
       "      <td>1</td>\n",
       "      <td>1</td>\n",
       "      <td>0</td>\n",
       "      <td>1</td>\n",
       "      <td>50000</td>\n",
       "    </tr>\n",
       "    <tr>\n",
       "      <th>2</th>\n",
       "      <td>2012</td>\n",
       "      <td>0</td>\n",
       "      <td>1</td>\n",
       "      <td>1</td>\n",
       "      <td>0</td>\n",
       "      <td>1</td>\n",
       "      <td>0</td>\n",
       "      <td>1</td>\n",
       "      <td>100000</td>\n",
       "    </tr>\n",
       "    <tr>\n",
       "      <th>3</th>\n",
       "      <td>2017</td>\n",
       "      <td>0</td>\n",
       "      <td>1</td>\n",
       "      <td>0</td>\n",
       "      <td>1</td>\n",
       "      <td>1</td>\n",
       "      <td>0</td>\n",
       "      <td>1</td>\n",
       "      <td>46000</td>\n",
       "    </tr>\n",
       "    <tr>\n",
       "      <th>4</th>\n",
       "      <td>2014</td>\n",
       "      <td>0</td>\n",
       "      <td>1</td>\n",
       "      <td>1</td>\n",
       "      <td>0</td>\n",
       "      <td>1</td>\n",
       "      <td>0</td>\n",
       "      <td>0</td>\n",
       "      <td>141000</td>\n",
       "    </tr>\n",
       "  </tbody>\n",
       "</table>\n",
       "</div>"
      ],
      "text/plain": [
       "   year  automatic  manual  diesel  petrol  individual  dealer  first_owner  \\\n",
       "0  2007          0       1       0       1           1       0            1   \n",
       "1  2007          0       1       0       1           1       0            1   \n",
       "2  2012          0       1       1       0           1       0            1   \n",
       "3  2017          0       1       0       1           1       0            1   \n",
       "4  2014          0       1       1       0           1       0            0   \n",
       "\n",
       "   kilometers  \n",
       "0       70000  \n",
       "1       50000  \n",
       "2      100000  \n",
       "3       46000  \n",
       "4      141000  "
      ]
     },
     "execution_count": 51,
     "metadata": {},
     "output_type": "execute_result"
    }
   ],
   "source": [
    "df_final.head()"
   ]
  },
  {
   "cell_type": "code",
   "execution_count": 89,
   "metadata": {},
   "outputs": [],
   "source": [
    "df_x=df_final\n",
    "df_y=df['selling_price']"
   ]
  },
  {
   "cell_type": "code",
   "execution_count": 90,
   "metadata": {},
   "outputs": [
    {
     "data": {
      "text/plain": [
       "LinearRegression()"
      ]
     },
     "execution_count": 90,
     "metadata": {},
     "output_type": "execute_result"
    }
   ],
   "source": [
    "from sklearn import linear_model\n",
    "from sklearn.model_selection import train_test_split\n",
    "import numpy as np\n",
    "from sklearn.metrics import r2_score\n",
    "from sklearn import metrics\n",
    "\n",
    "\n",
    "X_train, X_test, y_train, y_test = train_test_split(df_x, df_y, test_size=0.3, random_state=1) \n",
    "regr = linear_model.LinearRegression()\n",
    "regr.fit(X_train, y_train)"
   ]
  },
  {
   "cell_type": "code",
   "execution_count": 91,
   "metadata": {},
   "outputs": [],
   "source": [
    "y_pred=regr.predict(X_test)"
   ]
  },
  {
   "cell_type": "code",
   "execution_count": 92,
   "metadata": {},
   "outputs": [
    {
     "name": "stdout",
     "output_type": "stream",
     "text": [
      "435727.53404351947\n"
     ]
    }
   ],
   "source": [
    "#rmse\n",
    "print(np.sqrt(metrics.mean_squared_error(y_test,y_pred)))"
   ]
  },
  {
   "cell_type": "code",
   "execution_count": 93,
   "metadata": {},
   "outputs": [
    {
     "data": {
      "text/plain": [
       "0.4573676483011443"
      ]
     },
     "execution_count": 93,
     "metadata": {},
     "output_type": "execute_result"
    }
   ],
   "source": [
    "#r-square\n",
    "r2_score(y_test,y_pred)"
   ]
  },
  {
   "cell_type": "code",
   "execution_count": null,
   "metadata": {},
   "outputs": [],
   "source": []
  },
  {
   "cell_type": "code",
   "execution_count": null,
   "metadata": {},
   "outputs": [],
   "source": []
  }
 ],
 "metadata": {
  "kernelspec": {
   "display_name": "Python 3",
   "language": "python",
   "name": "python3"
  },
  "language_info": {
   "codemirror_mode": {
    "name": "ipython",
    "version": 3
   },
   "file_extension": ".py",
   "mimetype": "text/x-python",
   "name": "python",
   "nbconvert_exporter": "python",
   "pygments_lexer": "ipython3",
   "version": "3.8.5"
  }
 },
 "nbformat": 4,
 "nbformat_minor": 4
}
