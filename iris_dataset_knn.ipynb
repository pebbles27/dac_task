{
 "cells": [
  {
   "cell_type": "markdown",
   "metadata": {},
   "source": [
    "Iris dataset classification using knn"
   ]
  },
  {
   "cell_type": "code",
   "execution_count": 237,
   "metadata": {},
   "outputs": [],
   "source": [
    "import pandas as pd\n",
    "import numpy as np\n",
    "import math"
   ]
  },
  {
   "cell_type": "code",
   "execution_count": 238,
   "metadata": {},
   "outputs": [],
   "source": [
    "df_train=pd.read_csv('/path/to/csv../IRIS.csv')"
   ]
  },
  {
   "cell_type": "code",
   "execution_count": 239,
   "metadata": {},
   "outputs": [],
   "source": [
    "\n",
    "mask = np.random.rand(len(df)) < 0.65\n",
    "train = df[mask]\n",
    "test = df[~mask]"
   ]
  },
  {
   "cell_type": "code",
   "execution_count": 240,
   "metadata": {},
   "outputs": [
    {
     "data": {
      "text/html": [
       "<div>\n",
       "<style scoped>\n",
       "    .dataframe tbody tr th:only-of-type {\n",
       "        vertical-align: middle;\n",
       "    }\n",
       "\n",
       "    .dataframe tbody tr th {\n",
       "        vertical-align: top;\n",
       "    }\n",
       "\n",
       "    .dataframe thead th {\n",
       "        text-align: right;\n",
       "    }\n",
       "</style>\n",
       "<table border=\"1\" class=\"dataframe\">\n",
       "  <thead>\n",
       "    <tr style=\"text-align: right;\">\n",
       "      <th></th>\n",
       "      <th>sepal_length</th>\n",
       "      <th>sepal_width</th>\n",
       "      <th>petal_length</th>\n",
       "      <th>petal_width</th>\n",
       "      <th>species</th>\n",
       "    </tr>\n",
       "  </thead>\n",
       "  <tbody>\n",
       "    <tr>\n",
       "      <th>0</th>\n",
       "      <td>5.1</td>\n",
       "      <td>3.5</td>\n",
       "      <td>1.4</td>\n",
       "      <td>0.2</td>\n",
       "      <td>Iris-setosa</td>\n",
       "    </tr>\n",
       "    <tr>\n",
       "      <th>1</th>\n",
       "      <td>4.9</td>\n",
       "      <td>3.0</td>\n",
       "      <td>1.4</td>\n",
       "      <td>0.2</td>\n",
       "      <td>Iris-setosa</td>\n",
       "    </tr>\n",
       "    <tr>\n",
       "      <th>2</th>\n",
       "      <td>4.7</td>\n",
       "      <td>3.2</td>\n",
       "      <td>1.3</td>\n",
       "      <td>0.2</td>\n",
       "      <td>Iris-setosa</td>\n",
       "    </tr>\n",
       "    <tr>\n",
       "      <th>3</th>\n",
       "      <td>4.6</td>\n",
       "      <td>3.1</td>\n",
       "      <td>1.5</td>\n",
       "      <td>0.2</td>\n",
       "      <td>Iris-setosa</td>\n",
       "    </tr>\n",
       "    <tr>\n",
       "      <th>4</th>\n",
       "      <td>5.0</td>\n",
       "      <td>3.6</td>\n",
       "      <td>1.4</td>\n",
       "      <td>0.2</td>\n",
       "      <td>Iris-setosa</td>\n",
       "    </tr>\n",
       "  </tbody>\n",
       "</table>\n",
       "</div>"
      ],
      "text/plain": [
       "   sepal_length  sepal_width  petal_length  petal_width      species\n",
       "0           5.1          3.5           1.4          0.2  Iris-setosa\n",
       "1           4.9          3.0           1.4          0.2  Iris-setosa\n",
       "2           4.7          3.2           1.3          0.2  Iris-setosa\n",
       "3           4.6          3.1           1.5          0.2  Iris-setosa\n",
       "4           5.0          3.6           1.4          0.2  Iris-setosa"
      ]
     },
     "execution_count": 240,
     "metadata": {},
     "output_type": "execute_result"
    }
   ],
   "source": [
    "df.head()"
   ]
  },
  {
   "cell_type": "code",
   "execution_count": 241,
   "metadata": {},
   "outputs": [],
   "source": [
    "#Euclidean distance\n",
    "def calc_distance(vector1, vector2):\n",
    "    d=0.0\n",
    "    for i in range(0,len(vector1)):\n",
    "        d=d+(vector1[i]-vector2[i])**2;\n",
    "    return math.sqrt(d);\n",
    "# five nearest neighbours\n",
    "def get_nearest(distances):\n",
    "    distances.sort(key=lambda tup: tup[0])\n",
    "    nearest=[]\n",
    "    \n",
    "    for i in range(0,7):\n",
    "        nearest.append(distances[i][1])\n",
    "        \n",
    "    counter = 0\n",
    "    n =  nearest[0]\n",
    "      \n",
    "    for i in nearest:\n",
    "        maximum = nearest.count(i)\n",
    "        if(maximum> counter):\n",
    "            counter = maximum\n",
    "            n = i\n",
    "  \n",
    "   \n",
    "        \n",
    "       \n",
    "    return n\n",
    "    "
   ]
  },
  {
   "cell_type": "code",
   "execution_count": 242,
   "metadata": {},
   "outputs": [],
   "source": [
    "sl=train['sepal_length']"
   ]
  },
  {
   "cell_type": "code",
   "execution_count": 243,
   "metadata": {},
   "outputs": [],
   "source": [
    "corr=0\n",
    "err=0\n",
    "#train on test to measure accuracy\n",
    "for index, rows in test.iterrows():\n",
    "    test_list =[rows.sepal_length, rows.sepal_width, rows.petal_length,rows.petal_width]\n",
    "    species=rows.species\n",
    "    dist_list=[]\n",
    "    for index, rows in train.iterrows():\n",
    "        train_list =[rows.sepal_length, rows.sepal_width, rows.petal_length,rows.petal_width]\n",
    "        d= calc_distance(train_list,test_list)\n",
    "        dist_list.append((d,rows.species))\n",
    "        \n",
    "    s=get_nearest(dist_list)\n",
    "    if(s==species):\n",
    "        corr+=1\n",
    "        \n",
    "    else:\n",
    "        err+=1\n",
    "    \n",
    "        \n",
    "  \n"
   ]
  },
  {
   "cell_type": "code",
   "execution_count": 244,
   "metadata": {},
   "outputs": [
    {
     "name": "stdout",
     "output_type": "stream",
     "text": [
      "1.0\n"
     ]
    }
   ],
   "source": [
    "print(corr/(corr+err))"
   ]
  },
  {
   "cell_type": "code",
   "execution_count": 245,
   "metadata": {},
   "outputs": [],
   "source": [
    "corr1=0\n",
    "err1=0\n",
    "#test on train to measure accuracy\n",
    "for index, rows in train.iterrows():\n",
    "    train_list =[rows.sepal_length, rows.sepal_width, rows.petal_length,rows.petal_width]\n",
    "    species=rows.species\n",
    "    dist_list=[]\n",
    "    \n",
    "    for index, rows in test.iterrows():\n",
    "        test_list =[rows.sepal_length, rows.sepal_width, rows.petal_length,rows.petal_width]\n",
    "        d= calc_distance(train_list,test_list)\n",
    "        dist_list.append((d,rows.species))\n",
    "    s=get_nearest(dist_list)\n",
    "    if(s==species):\n",
    "        corr1+=1\n",
    "        \n",
    "    else:\n",
    "        err1+=1\n",
    "    "
   ]
  },
  {
   "cell_type": "code",
   "execution_count": 246,
   "metadata": {},
   "outputs": [
    {
     "name": "stdout",
     "output_type": "stream",
     "text": [
      "0.9732142857142857\n"
     ]
    }
   ],
   "source": [
    "accuracy=corr1/(corr1+err1)\n",
    "print(accuracy)"
   ]
  },
  {
   "cell_type": "markdown",
   "metadata": {},
   "source": [
    "Using SKlearn"
   ]
  },
  {
   "cell_type": "code",
   "execution_count": 267,
   "metadata": {},
   "outputs": [],
   "source": [
    "from sklearn.model_selection import train_test_split\n",
    "from sklearn.neighbors import KNeighborsClassifier\n",
    "from sklearn.preprocessing import StandardScaler\n",
    "from sklearn.model_selection import cross_val_score\n",
    "\n",
    "#first four columns as data and the last column as our predictor variable\n",
    "X = df.iloc[:, 0:4]\n",
    "y = df.iloc[:, 4]\n",
    "\n",
    "#splitting it into train and test\n",
    "X_train, X_test, y_train, y_test = train_test_split(X, y, test_size=0.3, random_state=1) \n",
    "\n",
    "\n"
   ]
  },
  {
   "cell_type": "code",
   "execution_count": 268,
   "metadata": {},
   "outputs": [
    {
     "name": "stdout",
     "output_type": "stream",
     "text": [
      "The accuracy of the Knn classifier on training data is 0.9619\n",
      "The accuracy of the Knn classifier on test data is 0.9778\n"
     ]
    }
   ],
   "source": [
    "#using minkowski\n",
    "knn = KNeighborsClassifier(n_neighbors = 7, p = 2, metric='minkowski')\n",
    "knn.fit(X_train, y_train)\n",
    "scoretrain=knn.score(X_train, y_train)\n",
    "print('The accuracy of the Knn classifier on training data is {:.4f}'.format(scoretrain))\n",
    "scoretest=knn.score(X_test, y_test)\n",
    "print('The accuracy of the Knn classifier on test data is {:.4f}'.format(scoretest))\n",
    "\n"
   ]
  },
  {
   "cell_type": "code",
   "execution_count": 269,
   "metadata": {},
   "outputs": [
    {
     "name": "stdout",
     "output_type": "stream",
     "text": [
      "The accuracy of the Knn classifier on training data is 0.3048\n",
      "The accuracy of the Knn classifier on test data is 0.4000\n"
     ]
    }
   ],
   "source": [
    "#using jaccard\n",
    "knn = KNeighborsClassifier(n_neighbors = 7, p = 2, metric='jaccard')\n",
    "knn.fit(X_train_std, y_train)\n",
    "\n",
    "print('The accuracy of the Knn classifier on training data is {:.4f}'.format(knn.score(X_train, y_train)))\n",
    "print('The accuracy of the Knn classifier on test data is {:.4f}'.format(knn.score(X_test, y_test)))"
   ]
  },
  {
   "cell_type": "code",
   "execution_count": 270,
   "metadata": {},
   "outputs": [
    {
     "name": "stdout",
     "output_type": "stream",
     "text": [
      "The accuracy of the Knn classifier on training data is 0.3524\n",
      "The accuracy of the Knn classifier on test data is 0.2889\n"
     ]
    }
   ],
   "source": [
    "#using Euclidean\n",
    "knn = KNeighborsClassifier(n_neighbors = 7, p = 2, metric='euclidean')\n",
    "knn.fit(X_train_std, y_train)\n",
    "\n",
    "print('The accuracy of the Knn classifier on training data is {:.4f}'.format(knn.score(X_train, y_train)))\n",
    "print('The accuracy of the Knn classifier on test data is {:.4f}'.format(knn.score(X_test, y_test)))"
   ]
  },
  {
   "cell_type": "code",
   "execution_count": 266,
   "metadata": {},
   "outputs": [
    {
     "name": "stdout",
     "output_type": "stream",
     "text": [
      "The accuracy of the Knn classifier on training data is 0.4571\n",
      "The accuracy of the Knn classifier on test data is 0.4444\n"
     ]
    }
   ],
   "source": [
    "#using cosine\n",
    "knn = KNeighborsClassifier(n_neighbors = 7, p = 2, metric='cosine')\n",
    "knn.fit(X_train_std, y_train)\n",
    "\n",
    "print('The accuracy of the Knn classifier on training data is {:.4f}'.format(knn.score(X_train, y_train)))\n",
    "print('The accuracy of the Knn classifier on test data is {:.4f}'.format(knn.score(X_test, y_test)))"
   ]
  },
  {
   "cell_type": "code",
   "execution_count": null,
   "metadata": {},
   "outputs": [],
   "source": []
  }
 ],
 "metadata": {
  "kernelspec": {
   "display_name": "Python 3",
   "language": "python",
   "name": "python3"
  },
  "language_info": {
   "codemirror_mode": {
    "name": "ipython",
    "version": 3
   },
   "file_extension": ".py",
   "mimetype": "text/x-python",
   "name": "python",
   "nbconvert_exporter": "python",
   "pygments_lexer": "ipython3",
   "version": "3.8.5"
  }
 },
 "nbformat": 4,
 "nbformat_minor": 4
}
